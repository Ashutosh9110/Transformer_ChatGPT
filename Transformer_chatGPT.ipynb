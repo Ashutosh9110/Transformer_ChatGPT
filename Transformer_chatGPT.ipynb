{
  "nbformat": 4,
  "nbformat_minor": 0,
  "metadata": {
    "colab": {
      "provenance": [],
      "gpuType": "T4"
    },
    "kernelspec": {
      "name": "python3",
      "display_name": "Python 3"
    },
    "language_info": {
      "name": "python"
    },
    "accelerator": "GPU"
  },
  "cells": [
    {
      "cell_type": "code",
      "source": [
        "# Downloading the dataset: Tiny shakespeare\n",
        "!wget https://raw.githubusercontent.com/karpathy/char-rnn/master/data/tinyshakespeare/input.txt"
      ],
      "metadata": {
        "colab": {
          "base_uri": "https://localhost:8080/"
        },
        "id": "hgoPRTTIxpdN",
        "outputId": "cd0a8be1-eb9a-4874-8f04-920ddbcae25c"
      },
      "execution_count": 1,
      "outputs": [
        {
          "output_type": "stream",
          "name": "stdout",
          "text": [
            "--2023-10-03 08:10:41--  https://raw.githubusercontent.com/karpathy/char-rnn/master/data/tinyshakespeare/input.txt\n",
            "Resolving raw.githubusercontent.com (raw.githubusercontent.com)... 185.199.108.133, 185.199.110.133, 185.199.111.133, ...\n",
            "Connecting to raw.githubusercontent.com (raw.githubusercontent.com)|185.199.108.133|:443... connected.\n",
            "HTTP request sent, awaiting response... 200 OK\n",
            "Length: 1115394 (1.1M) [text/plain]\n",
            "Saving to: ‘input.txt’\n",
            "\n",
            "input.txt           100%[===================>]   1.06M  --.-KB/s    in 0.009s  \n",
            "\n",
            "2023-10-03 08:10:41 (116 MB/s) - ‘input.txt’ saved [1115394/1115394]\n",
            "\n"
          ]
        }
      ]
    },
    {
      "cell_type": "code",
      "source": [
        "# reading the dataset\n",
        "with open(\"input.txt\", \"r\", encoding = \"utf-8\") as f:\n",
        "  text = f.read()"
      ],
      "metadata": {
        "id": "uX_uq0eSxpfW"
      },
      "execution_count": 2,
      "outputs": []
    },
    {
      "cell_type": "code",
      "source": [
        "print(\"length of characters in dataset: \", len(text))"
      ],
      "metadata": {
        "colab": {
          "base_uri": "https://localhost:8080/"
        },
        "id": "cr65t06Xxpjc",
        "outputId": "0ead4870-99c5-4127-8d21-b4cbf3a6c230"
      },
      "execution_count": 3,
      "outputs": [
        {
          "output_type": "stream",
          "name": "stdout",
          "text": [
            "length of characters in dataset:  1115394\n"
          ]
        }
      ]
    },
    {
      "cell_type": "code",
      "source": [
        "print(text[:2000])"
      ],
      "metadata": {
        "colab": {
          "base_uri": "https://localhost:8080/"
        },
        "id": "clFLDSGBxply",
        "outputId": "4c6bdacd-7fb4-40a0-a2c5-a945fbfdfa1a"
      },
      "execution_count": 41,
      "outputs": [
        {
          "output_type": "stream",
          "name": "stdout",
          "text": [
            "First Citizen:\n",
            "Before we proceed any further, hear me speak.\n",
            "\n",
            "All:\n",
            "Speak, speak.\n",
            "\n",
            "First Citizen:\n",
            "You are all resolved rather to die than to famish?\n",
            "\n",
            "All:\n",
            "Resolved. resolved.\n",
            "\n",
            "First Citizen:\n",
            "First, you know Caius Marcius is chief enemy to the people.\n",
            "\n",
            "All:\n",
            "We know't, we know't.\n",
            "\n",
            "First Citizen:\n",
            "Let us kill him, and we'll have corn at our own price.\n",
            "Is't a verdict?\n",
            "\n",
            "All:\n",
            "No more talking on't; let it be done: away, away!\n",
            "\n",
            "Second Citizen:\n",
            "One word, good citizens.\n",
            "\n",
            "First Citizen:\n",
            "We are accounted poor citizens, the patricians good.\n",
            "What authority surfeits on would relieve us: if they\n",
            "would yield us but the superfluity, while it were\n",
            "wholesome, we might guess they relieved us humanely;\n",
            "but they think we are too dear: the leanness that\n",
            "afflicts us, the object of our misery, is as an\n",
            "inventory to particularise their abundance; our\n",
            "sufferance is a gain to them Let us revenge this with\n",
            "our pikes, ere we become rakes: for the gods know I\n",
            "speak this in hunger for bread, not in thirst for revenge.\n",
            "\n",
            "Second Citizen:\n",
            "Would you proceed especially against Caius Marcius?\n",
            "\n",
            "All:\n",
            "Against him first: he's a very dog to the commonalty.\n",
            "\n",
            "Second Citizen:\n",
            "Consider you what services he has done for his country?\n",
            "\n",
            "First Citizen:\n",
            "Very well; and could be content to give him good\n",
            "report fort, but that he pays himself with being proud.\n",
            "\n",
            "Second Citizen:\n",
            "Nay, but speak not maliciously.\n",
            "\n",
            "First Citizen:\n",
            "I say unto you, what he hath done famously, he did\n",
            "it to that end: though soft-conscienced men can be\n",
            "content to say it was for his country he did it to\n",
            "please his mother and to be partly proud; which he\n",
            "is, even till the altitude of his virtue.\n",
            "\n",
            "Second Citizen:\n",
            "What he cannot help in his nature, you account a\n",
            "vice in him. You must in no way say he is covetous.\n",
            "\n",
            "First Citizen:\n",
            "If I must not, I need not be barren of accusations;\n",
            "he hath faults, with surplus, to tire in repetition.\n",
            "What shouts are these? The other side o' the city\n",
            "is risen: why stay we prating here? to the Capitol!\n",
            "\n",
            "All:\n",
            "Come, come.\n",
            "\n",
            "First C\n"
          ]
        }
      ]
    },
    {
      "cell_type": "code",
      "source": [
        "# unique characters that occur in the text\n",
        "chars = sorted(list(set(text))) # using set constructor will help us to get the set of all the characters in the text and creating a list of that\n",
        "vocab_size = len(chars)\n",
        "print(\"\".join(chars))\n",
        "print(vocab_size)\n",
        "\n",
        "# if you highlight the text, you will notice you have a space character as well.\n",
        "# There are 65 characters in total including a space character. These 65 characters will be part of our vocabulary.\n",
        "\n",
        "# This is a simple tokenier and it is called as Character Level Tokeniser.\n",
        "# Although it is simple but because of limited charaters/tokens we get a long list of integers as a result."
      ],
      "metadata": {
        "colab": {
          "base_uri": "https://localhost:8080/"
        },
        "id": "W3OdZn39xpnd",
        "outputId": "8c022fd7-4aae-4123-9b7b-a8ada9e820d7"
      },
      "execution_count": 5,
      "outputs": [
        {
          "output_type": "stream",
          "name": "stdout",
          "text": [
            "\n",
            " !$&',-.3:;?ABCDEFGHIJKLMNOPQRSTUVWXYZabcdefghijklmnopqrstuvwxyz\n",
            "65\n"
          ]
        }
      ]
    },
    {
      "cell_type": "code",
      "source": [
        "# Developing a strategy to tokenize the input text.\n",
        "\n",
        "# Tokenizing basically means converting a raw text (string) to some sequence of integers"
      ],
      "metadata": {
        "id": "OIYf3BzSxpp8"
      },
      "execution_count": 6,
      "outputs": []
    },
    {
      "cell_type": "code",
      "source": [
        "# creating a mapping from characters to integers and reverse mapping || here we are building both encoder and the decoder.\n",
        "\n",
        "stoi = { ch:i for i, ch in enumerate(chars) }\n",
        "itos = { i:ch for i, ch in enumerate(chars) }\n",
        "encode = lambda s: [stoi[c] for c in s] # here we tranlating all the characters individually\n",
        "decode = lambda l: \"\".join([itos[i] for i in l]) # decoding it back using reverse mapping\n",
        "\n",
        "print(encode(\"hi there\"))\n",
        "print(decode(encode(\"hi there\"))) # and this is what is reverse mapping\n",
        "\n",
        "# The list in the output [46, 47, 1...] is what we get after encoding \"hii there\". When we encode (an arbitrary text), we will receive a list of integers that represents\n",
        "# the string, we will also do the reverse mapping where we will take the list of integers and convert it back to string\n",
        "\n",
        "\n",
        "# How this works? We iterate all the characters and create a lookup table (line 3) to convert character to int and vice-versa (line 4), we do encoding of the string (line 8)\n",
        "# and decoding (line 6). This is one of many possible encodings. There are other schemas out there in practice, for eg: Google uses \"sentencePiece\" and in this you encode\n",
        "# sub-words (not the entire word or the characters). OpenAI uses \"tiktoken\" that is a fast BPE (Byte Pair Encoding) tokeniser and the same tokeniser is used  by GPT. It has\n",
        "# 50257 characters/tokens unlike the one we are using which as 65 tokens/characters.\n",
        "\n",
        "# In a way, there is a trade-off between the code book size and sequence lengths, so you can have very long sequence of integers with small vocabulary or we can have short\n",
        "# sequence of integers with very large vocabulary."
      ],
      "metadata": {
        "colab": {
          "base_uri": "https://localhost:8080/"
        },
        "id": "WjNetMc8xprs",
        "outputId": "c5eeee7e-a6e5-490b-9675-d29be34ab5f2"
      },
      "execution_count": 7,
      "outputs": [
        {
          "output_type": "stream",
          "name": "stdout",
          "text": [
            "[46, 47, 1, 58, 46, 43, 56, 43]\n",
            "hi there\n"
          ]
        }
      ]
    },
    {
      "cell_type": "code",
      "source": [
        "# Since now we have a tokeniser, we can tokenize the entire set of shakespeare.\n",
        "# We will now encode the entire text dataset and store it into a torch.Tensor\n",
        "import torch # From torch library, we are using torch.tensor module\n",
        "data = torch.tensor(encode(text), dtype = torch.long)\n",
        "print(data.shape, data.dtype)\n",
        "print(data[:100])\n",
        "\n",
        "# here we are taking the entire text, encode it and wrap it into a torch.tensor"
      ],
      "metadata": {
        "colab": {
          "base_uri": "https://localhost:8080/"
        },
        "id": "mHoUEJhFxptl",
        "outputId": "8ee6af36-12f7-4884-c453-c3193d76095e"
      },
      "execution_count": 8,
      "outputs": [
        {
          "output_type": "stream",
          "name": "stdout",
          "text": [
            "torch.Size([1115394]) torch.int64\n",
            "tensor([18, 47, 56, 57, 58,  1, 15, 47, 58, 47, 64, 43, 52, 10,  0, 14, 43, 44,\n",
            "        53, 56, 43,  1, 61, 43,  1, 54, 56, 53, 41, 43, 43, 42,  1, 39, 52, 63,\n",
            "         1, 44, 59, 56, 58, 46, 43, 56,  6,  1, 46, 43, 39, 56,  1, 51, 43,  1,\n",
            "        57, 54, 43, 39, 49,  8,  0,  0, 13, 50, 50, 10,  0, 31, 54, 43, 39, 49,\n",
            "         6,  1, 57, 54, 43, 39, 49,  8,  0,  0, 18, 47, 56, 57, 58,  1, 15, 47,\n",
            "        58, 47, 64, 43, 52, 10,  0, 37, 53, 59])\n"
          ]
        }
      ]
    },
    {
      "cell_type": "code",
      "source": [
        "# splitting the data into train and validation split\n",
        "\n",
        "n = int(0.9 * len(data)) # first 90% will be will used for train the Transformer and 10% for validation data.\n",
        "train_data = data[:n] # training set\n",
        "val_data = data[n:] # testing set"
      ],
      "metadata": {
        "id": "PwD8lXrIxpxg"
      },
      "execution_count": 9,
      "outputs": []
    },
    {
      "cell_type": "code",
      "source": [
        "# Important: We will not be feeding the entire text to transformers all at once, that would be computationally expensive.\n",
        "# when we train transformers, we train them on chunks of dataset.. ie we sample random chunks out of the training set and train them\n",
        "# one chunk at a time."
      ],
      "metadata": {
        "id": "5UdlPr6Sxp0G"
      },
      "execution_count": 10,
      "outputs": []
    },
    {
      "cell_type": "code",
      "source": [
        "# the length of the chunk is called block size\n",
        "\n",
        "block_size = 8\n",
        "train_data[:block_size + 1]\n",
        "\n",
        "# output are the first nine characters in the training set. We will train it at every postion, in the context of 18, 47 comes next, for (18 + 45) 56 come next, in the\n",
        "# context of (18, 47, 56) 57 come next"
      ],
      "metadata": {
        "colab": {
          "base_uri": "https://localhost:8080/"
        },
        "id": "YWYesfibxp2L",
        "outputId": "6a4b3620-5341-4a56-cd2f-ada3e213a31f"
      },
      "execution_count": 11,
      "outputs": [
        {
          "output_type": "execute_result",
          "data": {
            "text/plain": [
              "tensor([18, 47, 56, 57, 58,  1, 15, 47, 58])"
            ]
          },
          "metadata": {},
          "execution_count": 11
        }
      ]
    },
    {
      "cell_type": "code",
      "source": [
        "x = train_data[:block_size] # x are the inputs to the transformer, it will be the first block size characters\n",
        "y = train_data[1 : block_size + 1] # y will be the next block size characters basically its offset by 1 because y are the targets for each position in the input\n",
        "for t in range(block_size): # iterating over the block size of 8\n",
        "  context = x[:t + 1] # all the characters in x up to t (including t)\n",
        "  target = y[t] # target is always the t character\n",
        "  print(f\"When the input is {context}, the target is: {target}\")\n",
        "\n",
        "\n",
        "\n",
        "# Important thing to note here is that the output shows transformer getting trained on eight examples here, making sure it understand the \"context\" between all the integers\n",
        "# from as little as one character to all the way to a block size.\n",
        "# and that is why it is carrying forward the previous integer to the new integer. basically, we are making the transformer n/w used to seeing context all the way from as\n",
        "# one to all way to block_size (block_size = [18, 47, 56, 57, 58,  1, 15, 47]) so that it can predict next character"
      ],
      "metadata": {
        "colab": {
          "base_uri": "https://localhost:8080/"
        },
        "id": "mcTaCJZxxp4i",
        "outputId": "a7ade5a1-c7f1-4ce6-b9f4-4bc859556b45"
      },
      "execution_count": 12,
      "outputs": [
        {
          "output_type": "stream",
          "name": "stdout",
          "text": [
            "When the input is tensor([18]), the target is: 47\n",
            "When the input is tensor([18, 47]), the target is: 56\n",
            "When the input is tensor([18, 47, 56]), the target is: 57\n",
            "When the input is tensor([18, 47, 56, 57]), the target is: 58\n",
            "When the input is tensor([18, 47, 56, 57, 58]), the target is: 1\n",
            "When the input is tensor([18, 47, 56, 57, 58,  1]), the target is: 15\n",
            "When the input is tensor([18, 47, 56, 57, 58,  1, 15]), the target is: 47\n",
            "When the input is tensor([18, 47, 56, 57, 58,  1, 15, 47]), the target is: 58\n"
          ]
        }
      ]
    },
    {
      "cell_type": "code",
      "source": [
        "# Above code is the time dimension of the tensors that are we are feeding to the transformer, there is one more dimension to care about: batch_dimension"
      ],
      "metadata": {
        "id": "z68xO6XQIsNK"
      },
      "execution_count": 13,
      "outputs": []
    },
    {
      "cell_type": "code",
      "source": [
        "# here we are going to start sampling random locations in the dataset to pull chunks from, we are setting the seed in the random number generator.\n",
        "\n",
        "torch.manual_seed(1337)\n",
        "batch_size = 4 # how many independent sequences we will process in parallel ie every forward backward pass in the transformer\n",
        "block_size = 8 # what is the maximum context lenght for predictions\n",
        "\n",
        "\n",
        "def get_batch(split):\n",
        "# generating a small batch of data of inputs x and targets y\n",
        "  data = train_data if split == \"train\" else val_data # if the split is a training split, then we will look at train data otherwise val_data and that will give us the data array\n",
        "  ix = torch.randint(len(data) - block_size, (batch_size,)) # here we are generating random positions, since our batch_size is 4, ix will consist of four numbers randomly\n",
        "# generated b/w 0 and len(data) - block_size\n",
        "  x = torch.stack([data[i:i+block_size] for i in ix]) # x is the firt block size characters starting at i || We are going to get chunks for every one of integers of I in ix\n",
        "# torch.stack will help us to take all one dimensional tensors and stack them up at rows. So basically, they all become a row in a 4 by 8 tensor\n",
        "  y = torch.stack([data[i+1:i+block_size + 1] for i in ix]) # y is just ofset of 1 or + 1 of x [just a (+1) iteration of i]\n",
        "  return x, y\n",
        "\n",
        "\n",
        "xb, yb = get_batch(\"train\") # sampling a batch on xb and yb. ||\n",
        "print(\"inputs:\")\n",
        "print(xb.shape)\n",
        "print(xb)\n",
        "print(\"targets:\")\n",
        "print(yb.shape)\n",
        "print(yb)\n",
        "\n",
        "print(\"----\")\n",
        "\n",
        "for b in range(batch_size): # batch dimension\n",
        "  for t in range(block_size):# time dimension\n",
        "    context = xb[b, :t + 1]\n",
        "    target = yb[b, t]\n",
        "    print(f\"when the input is {context.tolist()} the target is: {target}\")\n",
        "\n",
        "# Input x is the 4 by 8 tensor ie 4 rows of 8 columns and each one of these is a chunk of the training set\n",
        "# Targets are in the associated array Y and they will come through the Transformer all the way at the end to create the loss function, basically they will give us the correct\n",
        "# answer for every single position inside x.\n",
        "\n",
        "# inputs are x and targets are y\n",
        "# So below are the 32 independent examples packed in to a single batch of input x and the desired targets are in y.\n"
      ],
      "metadata": {
        "id": "pcpsedXpIsPr",
        "colab": {
          "base_uri": "https://localhost:8080/"
        },
        "outputId": "52b75382-fe46-4209-d364-b733acd4a508"
      },
      "execution_count": 14,
      "outputs": [
        {
          "output_type": "stream",
          "name": "stdout",
          "text": [
            "inputs:\n",
            "torch.Size([4, 8])\n",
            "tensor([[24, 43, 58,  5, 57,  1, 46, 43],\n",
            "        [44, 53, 56,  1, 58, 46, 39, 58],\n",
            "        [52, 58,  1, 58, 46, 39, 58,  1],\n",
            "        [25, 17, 27, 10,  0, 21,  1, 54]])\n",
            "targets:\n",
            "torch.Size([4, 8])\n",
            "tensor([[43, 58,  5, 57,  1, 46, 43, 39],\n",
            "        [53, 56,  1, 58, 46, 39, 58,  1],\n",
            "        [58,  1, 58, 46, 39, 58,  1, 46],\n",
            "        [17, 27, 10,  0, 21,  1, 54, 39]])\n",
            "----\n",
            "when the input is [24] the target is: 43\n",
            "when the input is [24, 43] the target is: 58\n",
            "when the input is [24, 43, 58] the target is: 5\n",
            "when the input is [24, 43, 58, 5] the target is: 57\n",
            "when the input is [24, 43, 58, 5, 57] the target is: 1\n",
            "when the input is [24, 43, 58, 5, 57, 1] the target is: 46\n",
            "when the input is [24, 43, 58, 5, 57, 1, 46] the target is: 43\n",
            "when the input is [24, 43, 58, 5, 57, 1, 46, 43] the target is: 39\n",
            "when the input is [44] the target is: 53\n",
            "when the input is [44, 53] the target is: 56\n",
            "when the input is [44, 53, 56] the target is: 1\n",
            "when the input is [44, 53, 56, 1] the target is: 58\n",
            "when the input is [44, 53, 56, 1, 58] the target is: 46\n",
            "when the input is [44, 53, 56, 1, 58, 46] the target is: 39\n",
            "when the input is [44, 53, 56, 1, 58, 46, 39] the target is: 58\n",
            "when the input is [44, 53, 56, 1, 58, 46, 39, 58] the target is: 1\n",
            "when the input is [52] the target is: 58\n",
            "when the input is [52, 58] the target is: 1\n",
            "when the input is [52, 58, 1] the target is: 58\n",
            "when the input is [52, 58, 1, 58] the target is: 46\n",
            "when the input is [52, 58, 1, 58, 46] the target is: 39\n",
            "when the input is [52, 58, 1, 58, 46, 39] the target is: 58\n",
            "when the input is [52, 58, 1, 58, 46, 39, 58] the target is: 1\n",
            "when the input is [52, 58, 1, 58, 46, 39, 58, 1] the target is: 46\n",
            "when the input is [25] the target is: 17\n",
            "when the input is [25, 17] the target is: 27\n",
            "when the input is [25, 17, 27] the target is: 10\n",
            "when the input is [25, 17, 27, 10] the target is: 0\n",
            "when the input is [25, 17, 27, 10, 0] the target is: 21\n",
            "when the input is [25, 17, 27, 10, 0, 21] the target is: 1\n",
            "when the input is [25, 17, 27, 10, 0, 21, 1] the target is: 54\n",
            "when the input is [25, 17, 27, 10, 0, 21, 1, 54] the target is: 39\n"
          ]
        }
      ]
    },
    {
      "cell_type": "code",
      "source": [
        "print(xb) # output is the batch of input that we would like to the transformers basically feeding it to the neural networks.\n",
        "\n",
        "# we will start with the simplest possible neural network which is called as bigram language model\n"
      ],
      "metadata": {
        "id": "HLQN7OBWIsVS",
        "colab": {
          "base_uri": "https://localhost:8080/"
        },
        "outputId": "83668c5f-279c-4a91-c5e4-ba4bebf2e09c"
      },
      "execution_count": 15,
      "outputs": [
        {
          "output_type": "stream",
          "name": "stdout",
          "text": [
            "tensor([[24, 43, 58,  5, 57,  1, 46, 43],\n",
            "        [44, 53, 56,  1, 58, 46, 39, 58],\n",
            "        [52, 58,  1, 58, 46, 39, 58,  1],\n",
            "        [25, 17, 27, 10,  0, 21,  1, 54]])\n"
          ]
        }
      ]
    },
    {
      "cell_type": "code",
      "source": [
        "# to implement the bigram LM we will use pytorch module\n",
        "\n",
        "import torch\n",
        "import torch.nn as nn\n",
        "from torch.nn import functional as F\n",
        "torch.manual_seed(1337)\n",
        "\n",
        "class BigramLanguageModel(nn.Module): # Constructing a BigramLanguageModel which is a subclass of nn.Module\n",
        "\n",
        "  def __init__(self, vocab_size):\n",
        "    super().__init__() # each token reads off the logits for the next token from a look up table\n",
        "    self.token_embedding_table = nn.Embedding(vocab_size, vocab_size) # here we are creating a token_embedding_table that will be equivalent to the size of vocab_size\n",
        "# nn.embedding is a very thin wrapper around tensor of shape for both (vocab_size by vocab_size)\n",
        "\n",
        "  def forward(self, idx, targets = None): # idx = inputs x || passing idx into token embedding table\n",
        "      logits = self.token_embedding_table(idx) # (B, T, C)  # pytorch will arrange all the calculation into (batch by time by channel) tensor || in this scenario batch is 4,\n",
        "# time is 8 and c is the channel or vocab_size which is 65. So basically we are going to pluck out all the rows and arrange them in a B by T by C and we are going to interpret\n",
        "# this as logits which are basically the scores for the next character in the sequence.\n",
        "# here we are basically predicting what comes next based on the individual identity of a single token\n",
        "      if  targets is None:\n",
        "          loss = None\n",
        "      else:\n",
        "          B, T, C = logits.shape  # giving names to the dimensions\n",
        "          logits = logits.view(B * T, C) # we chnage B, T, C (which was a 3 dimensional arary to a two dimensional array as pytorch expects the channels to be 2nd in numbers)\n",
        "          targets = targets.view(B*T)\n",
        "          loss = F.cross_entropy(logits, targets) # A good way to measure a loss or quality of the prediction is to use negative log likelyhood loss which is also implement in\n",
        "    # pytorch under the name cross entropy.\n",
        "\n",
        "      return logits, loss\n",
        "\n",
        "# When we are passing the idx into the token_embedding_table every single integer will refer nn.embedding table and will pluck out a row of that embedding table corresponding\n",
        "# to its index. for eg. 24 will go to the embedding table and will pluck out the 24th row, 43rd will pluck out 43 and so on\n",
        "\n",
        "# Generating function for the model\n",
        "# The job of generator is to take B, T (B by T) and make it B by T + 1,  B by T + 2..as many as we want\n",
        "\n",
        "  def generate(self, idx, max_new_tokens):\n",
        "    for _ in range(max_new_tokens):\n",
        "      logits, loss = self(idx)\n",
        "      logits = logits[:, -1, :]\n",
        "      probs = F.softmax(logits, dim = -1)\n",
        "      idx_next = torch.multinomial(probs, num_samples = 1)\n",
        "      idx = torch.cat((idx, idx_next), dim = 1)\n",
        "    return idx\n",
        "\n",
        "m = BigramLanguageModel(vocab_size)\n",
        "logits, loss = m(xb, yb) # passing the inputs and the targets\n",
        "print(logits.shape)\n",
        "print(loss)\n",
        "# The output that we are getting is scores or logits for every 4 by 8 positions\n",
        "\n",
        "# now that we are able to make predictions what comes next we would now evaluate the loss function\n",
        "# In the output we can see that the loss is 4.8786\n",
        "# Since we have 65 vocabulary elements, we can calculate loss manually: -ln(1/65) = 4.17\n",
        "\n",
        "print(decode(m.generate(idx = torch.zeros((1, 1), dtype=torch.long), max_new_tokens=100)[0].tolist()))\n",
        "\n",
        "\n"
      ],
      "metadata": {
        "id": "NAtFm05eIsZw",
        "colab": {
          "base_uri": "https://localhost:8080/"
        },
        "outputId": "12981238-3fc9-4855-9477-4df1cbf751b6"
      },
      "execution_count": 19,
      "outputs": [
        {
          "output_type": "stream",
          "name": "stdout",
          "text": [
            "torch.Size([32, 65])\n",
            "tensor(4.8786, grad_fn=<NllLossBackward0>)\n",
            "\n",
            "Sr?qP-QWktXoL&jLDJgOLVz'RIoDqHdhsV&vLLxatjscMpwLERSPyao.qfzs$Ys$zF-w,;eEkzxjgCKFChs!iWW.ObzDnxA Ms$3\n"
          ]
        }
      ]
    },
    {
      "cell_type": "code",
      "source": [
        "# create a PyTorch optimizer\n",
        "optimizer = torch.optim.AdamW(m.parameters(), lr=1e-3)"
      ],
      "metadata": {
        "id": "WFHTjgGJIscR"
      },
      "execution_count": 20,
      "outputs": []
    },
    {
      "cell_type": "code",
      "source": [
        "batch_size = 32\n",
        "for steps in range(100): # increase number of steps for good results...\n",
        "\n",
        "    # sample a batch of data\n",
        "    xb, yb = get_batch('train')\n",
        "\n",
        "    # evaluate the loss\n",
        "    logits, loss = m(xb, yb)\n",
        "    optimizer.zero_grad(set_to_none=True)\n",
        "    loss.backward()\n",
        "    optimizer.step()\n",
        "\n",
        "print(loss.item())\n"
      ],
      "metadata": {
        "id": "M1G251szIseq",
        "colab": {
          "base_uri": "https://localhost:8080/"
        },
        "outputId": "ba36ead4-2a73-41bc-919b-e92b0bffd3ac"
      },
      "execution_count": 21,
      "outputs": [
        {
          "output_type": "stream",
          "name": "stdout",
          "text": [
            "4.587916374206543\n"
          ]
        }
      ]
    },
    {
      "cell_type": "code",
      "source": [
        "print(decode(m.generate(idx = torch.zeros((1, 1), dtype=torch.long), max_new_tokens=500)[0].tolist()))"
      ],
      "metadata": {
        "id": "R_P62MpKIsg5",
        "colab": {
          "base_uri": "https://localhost:8080/"
        },
        "outputId": "b0ba2290-0708-4b61-c037-ea1de9b682f8"
      },
      "execution_count": 22,
      "outputs": [
        {
          "output_type": "stream",
          "name": "stdout",
          "text": [
            "\n",
            "xiKi-RJ:CgqVuUa!U?qMH.uk!sCuMXvv!CJFfx;LgRyJknOEti.?I&-gPlLyulId?XlaInQ'q,lT$\n",
            "3Q&sGlvHQ?mqSq-eON\n",
            "x?SP fUAfCAuCX:bOlgiRQWN:Mphaw\n",
            "tRLKuYXEaAXxrcq-gCUzeh3w!AcyaylgYWjmJM?Uzw:inaY,:C&OECW:vmGGJAn3onAuMgia!ms$Vb q-gCOcPcUhOnxJGUGSPJWT:.?ujmJFoiNL&A'DxY,prZ?qdT;hoo'dHooXXlxf'WkHK&u3Q?rqUi.kz;?Yx?C&u3Qbfzxlyh'Vl:zyxjKXgC?\n",
            "lv'QKFiBeviNxO'm!Upm$srm&TqViqiBD3HBP!juEOpmZJyF$Fwfy!PlvWPFC\n",
            "&WDdP!Ko,px\n",
            "x\n",
            "tREOE;AJ.BeXkylOVD3KHp$e?nD,.SFbWWI'ubcL!q-tU;aXmJ&uGXHxJXI&Z!gHRpajj;l.\n",
            "pTErIBjx;JKIgoCnLGXrJSP!AU-AcbczR?\n"
          ]
        }
      ]
    },
    {
      "cell_type": "markdown",
      "source": [
        "## The mathematical trick in self-attention"
      ],
      "metadata": {
        "id": "wrWjgzESnlMj"
      }
    },
    {
      "cell_type": "code",
      "source": [
        "# toy example illustrating how matrix multiplication can be used for a \"weighted aggregation\"\n",
        "torch.manual_seed(42)\n",
        "a = torch.tril(torch.ones(3, 3))\n",
        "a = a / torch.sum(a, 1, keepdim=True)\n",
        "b = torch.randint(0,10,(3,2)).float()\n",
        "c = a @ b\n",
        "print('a=')\n",
        "print(a)\n",
        "print('--')\n",
        "print('b=')\n",
        "print(b)\n",
        "print('--')\n",
        "print('c=')\n",
        "print(c)"
      ],
      "metadata": {
        "id": "u_NkXIeYIsny",
        "colab": {
          "base_uri": "https://localhost:8080/"
        },
        "outputId": "81b6ac1a-f60a-4762-e788-57381df664ec"
      },
      "execution_count": 23,
      "outputs": [
        {
          "output_type": "stream",
          "name": "stdout",
          "text": [
            "a=\n",
            "tensor([[1.0000, 0.0000, 0.0000],\n",
            "        [0.5000, 0.5000, 0.0000],\n",
            "        [0.3333, 0.3333, 0.3333]])\n",
            "--\n",
            "b=\n",
            "tensor([[2., 7.],\n",
            "        [6., 4.],\n",
            "        [6., 5.]])\n",
            "--\n",
            "c=\n",
            "tensor([[2.0000, 7.0000],\n",
            "        [4.0000, 5.5000],\n",
            "        [4.6667, 5.3333]])\n"
          ]
        }
      ]
    },
    {
      "cell_type": "code",
      "source": [
        "# consider the following toy example:\n",
        "\n",
        "torch.manual_seed(1337)\n",
        "B,T,C = 4,8,2 # batch, time, channels\n",
        "x = torch.randn(B,T,C)\n",
        "x.shape"
      ],
      "metadata": {
        "id": "zVswZCy0Isp7",
        "colab": {
          "base_uri": "https://localhost:8080/"
        },
        "outputId": "a0e57f9e-0adc-4694-f6b2-b5e419f03829"
      },
      "execution_count": 24,
      "outputs": [
        {
          "output_type": "execute_result",
          "data": {
            "text/plain": [
              "torch.Size([4, 8, 2])"
            ]
          },
          "metadata": {},
          "execution_count": 24
        }
      ]
    },
    {
      "cell_type": "code",
      "source": [
        "# We want x[b,t] = mean_{i<=t} x[b,i]\n",
        "xbow = torch.zeros((B,T,C))\n",
        "for b in range(B):\n",
        "    for t in range(T):\n",
        "        xprev = x[b,:t+1] # (t,C)\n",
        "        xbow[b,t] = torch.mean(xprev, 0)"
      ],
      "metadata": {
        "id": "iBouxcl8IssF"
      },
      "execution_count": 25,
      "outputs": []
    },
    {
      "cell_type": "code",
      "source": [
        "# version 2: using matrix multiply for a weighted aggregation\n",
        "wei = torch.tril(torch.ones(T, T))\n",
        "wei = wei / wei.sum(1, keepdim=True)\n",
        "xbow2 = wei @ x # (B, T, T) @ (B, T, C) ----> (B, T, C)\n",
        "torch.allclose(xbow, xbow2)"
      ],
      "metadata": {
        "id": "pXDVs7WkIsuX",
        "colab": {
          "base_uri": "https://localhost:8080/"
        },
        "outputId": "644b5333-a21c-4ccf-d0b4-b5392f57e475"
      },
      "execution_count": 26,
      "outputs": [
        {
          "output_type": "execute_result",
          "data": {
            "text/plain": [
              "True"
            ]
          },
          "metadata": {},
          "execution_count": 26
        }
      ]
    },
    {
      "cell_type": "code",
      "source": [
        "# version 3: use Softmax\n",
        "tril = torch.tril(torch.ones(T, T))\n",
        "wei = torch.zeros((T,T))\n",
        "wei = wei.masked_fill(tril == 0, float('-inf'))\n",
        "wei = F.softmax(wei, dim=-1)\n",
        "xbow3 = wei @ x\n",
        "torch.allclose(xbow, xbow3)"
      ],
      "metadata": {
        "id": "FK9lA9IGxp6n",
        "colab": {
          "base_uri": "https://localhost:8080/"
        },
        "outputId": "6c4d463e-cb0b-4fc3-fab9-0350c78d6e10"
      },
      "execution_count": 27,
      "outputs": [
        {
          "output_type": "execute_result",
          "data": {
            "text/plain": [
              "True"
            ]
          },
          "metadata": {},
          "execution_count": 27
        }
      ]
    },
    {
      "cell_type": "code",
      "source": [
        "# version 4: self-attention!\n",
        "torch.manual_seed(1337)\n",
        "B,T,C = 4,8,32 # batch, time, channels\n",
        "x = torch.randn(B,T,C)\n",
        "\n",
        "# let's see a single Head perform self-attention\n",
        "head_size = 16\n",
        "key = nn.Linear(C, head_size, bias=False)\n",
        "query = nn.Linear(C, head_size, bias=False)\n",
        "value = nn.Linear(C, head_size, bias=False)\n",
        "k = key(x)   # (B, T, 16)\n",
        "q = query(x) # (B, T, 16)\n",
        "wei =  q @ k.transpose(-2, -1) # (B, T, 16) @ (B, 16, T) ---> (B, T, T)\n",
        "\n",
        "tril = torch.tril(torch.ones(T, T))\n",
        "#wei = torch.zeros((T,T))\n",
        "wei = wei.masked_fill(tril == 0, float('-inf'))\n",
        "wei = F.softmax(wei, dim=-1)\n",
        "\n",
        "v = value(x)\n",
        "out = wei @ v\n",
        "#out = wei @ x\n",
        "\n",
        "out.shape"
      ],
      "metadata": {
        "id": "wfmnh4d2xp9H",
        "colab": {
          "base_uri": "https://localhost:8080/"
        },
        "outputId": "073d54c3-cfca-45c3-ffa4-67ab56ded200"
      },
      "execution_count": 28,
      "outputs": [
        {
          "output_type": "execute_result",
          "data": {
            "text/plain": [
              "torch.Size([4, 8, 16])"
            ]
          },
          "metadata": {},
          "execution_count": 28
        }
      ]
    },
    {
      "cell_type": "code",
      "source": [
        "wei[0]"
      ],
      "metadata": {
        "colab": {
          "base_uri": "https://localhost:8080/"
        },
        "id": "ejtSzkN6nvqq",
        "outputId": "e645b23a-64da-40d6-9af1-93c632b6dc6f"
      },
      "execution_count": 29,
      "outputs": [
        {
          "output_type": "execute_result",
          "data": {
            "text/plain": [
              "tensor([[1.0000, 0.0000, 0.0000, 0.0000, 0.0000, 0.0000, 0.0000, 0.0000],\n",
              "        [0.1574, 0.8426, 0.0000, 0.0000, 0.0000, 0.0000, 0.0000, 0.0000],\n",
              "        [0.2088, 0.1646, 0.6266, 0.0000, 0.0000, 0.0000, 0.0000, 0.0000],\n",
              "        [0.5792, 0.1187, 0.1889, 0.1131, 0.0000, 0.0000, 0.0000, 0.0000],\n",
              "        [0.0294, 0.1052, 0.0469, 0.0276, 0.7909, 0.0000, 0.0000, 0.0000],\n",
              "        [0.0176, 0.2689, 0.0215, 0.0089, 0.6812, 0.0019, 0.0000, 0.0000],\n",
              "        [0.1691, 0.4066, 0.0438, 0.0416, 0.1048, 0.2012, 0.0329, 0.0000],\n",
              "        [0.0210, 0.0843, 0.0555, 0.2297, 0.0573, 0.0709, 0.2423, 0.2391]],\n",
              "       grad_fn=<SelectBackward0>)"
            ]
          },
          "metadata": {},
          "execution_count": 29
        }
      ]
    },
    {
      "cell_type": "markdown",
      "source": [
        "Notes:\n",
        "\n",
        "* Attention is a communication mechanism. Can be seen as nodes in a directed graph looking at each other and aggregating information with a weighted sum from all nodes that point to them, with data-dependent weights.\n",
        "* There is no notion of space. Attention simply acts over a set of vectors. This is why we need to positionally encode tokens.\n",
        "* Each example across batch dimension is of course processed completely independently and never \"talk\" to each other\n",
        "* In an \"encoder\" attention block just delete the single line that does masking with tril, allowing all tokens to communicate. This block here is called a \"decoder\" attention block because it has triangular masking, and is usually used in autoregressive settings, like language modeling.\n",
        "* \"self-attention\" just means that the keys and values are produced from the same source as queries. In \"cross-attention\", the queries still get produced from x, but the keys and values come from some other, external source (e.g. an encoder module)\n",
        "* \"Scaled\" attention additional divides wei by 1/sqrt(head_size). This makes it so when input Q,K are unit variance, wei will be unit variance too and Softmax will stay diffuse and not saturate too much. Illustration below"
      ],
      "metadata": {
        "id": "lAco8SZ1n2P_"
      }
    },
    {
      "cell_type": "code",
      "source": [
        "k = torch.randn(B,T,head_size)\n",
        "q = torch.randn(B,T,head_size)\n",
        "wei = q @ k.transpose(-2, -1) * head_size**-0.5"
      ],
      "metadata": {
        "id": "Dgg6xFo_nvux"
      },
      "execution_count": 30,
      "outputs": []
    },
    {
      "cell_type": "code",
      "source": [
        "k.var()"
      ],
      "metadata": {
        "colab": {
          "base_uri": "https://localhost:8080/"
        },
        "id": "GKbj3i9jnvw4",
        "outputId": "89c87b7a-a75b-48c5-c4b7-30453f7cbc5e"
      },
      "execution_count": 31,
      "outputs": [
        {
          "output_type": "execute_result",
          "data": {
            "text/plain": [
              "tensor(1.0449)"
            ]
          },
          "metadata": {},
          "execution_count": 31
        }
      ]
    },
    {
      "cell_type": "code",
      "source": [
        "q.var()"
      ],
      "metadata": {
        "colab": {
          "base_uri": "https://localhost:8080/"
        },
        "id": "I4R34b-Lnvyv",
        "outputId": "0bee1106-ff51-47e8-a90d-da3cd0725c19"
      },
      "execution_count": 32,
      "outputs": [
        {
          "output_type": "execute_result",
          "data": {
            "text/plain": [
              "tensor(1.0700)"
            ]
          },
          "metadata": {},
          "execution_count": 32
        }
      ]
    },
    {
      "cell_type": "code",
      "source": [
        "wei.var()"
      ],
      "metadata": {
        "colab": {
          "base_uri": "https://localhost:8080/"
        },
        "id": "QbCPQJffnv1Q",
        "outputId": "3547452b-b440-455f-af9d-dd6b532f0407"
      },
      "execution_count": 33,
      "outputs": [
        {
          "output_type": "execute_result",
          "data": {
            "text/plain": [
              "tensor(1.0918)"
            ]
          },
          "metadata": {},
          "execution_count": 33
        }
      ]
    },
    {
      "cell_type": "code",
      "source": [
        "torch.softmax(torch.tensor([0.1, -0.2, 0.3, -0.2, 0.5]), dim=-1)"
      ],
      "metadata": {
        "colab": {
          "base_uri": "https://localhost:8080/"
        },
        "id": "zlkOCpaPnv3I",
        "outputId": "44d8942e-d07a-44de-e23a-54116232af26"
      },
      "execution_count": 34,
      "outputs": [
        {
          "output_type": "execute_result",
          "data": {
            "text/plain": [
              "tensor([0.1925, 0.1426, 0.2351, 0.1426, 0.2872])"
            ]
          },
          "metadata": {},
          "execution_count": 34
        }
      ]
    },
    {
      "cell_type": "code",
      "source": [
        "torch.softmax(torch.tensor([0.1, -0.2, 0.3, -0.2, 0.5])*8, dim=-1) # gets too peaky, converges to one-hot"
      ],
      "metadata": {
        "colab": {
          "base_uri": "https://localhost:8080/"
        },
        "id": "iPfA73zZnv5N",
        "outputId": "b4d3243a-9c3e-4550-a4f2-4e415773fd33"
      },
      "execution_count": 35,
      "outputs": [
        {
          "output_type": "execute_result",
          "data": {
            "text/plain": [
              "tensor([0.0326, 0.0030, 0.1615, 0.0030, 0.8000])"
            ]
          },
          "metadata": {},
          "execution_count": 35
        }
      ]
    },
    {
      "cell_type": "code",
      "source": [
        "class LayerNorm1d: # (used to be BatchNorm1d)\n",
        "\n",
        "  def __init__(self, dim, eps=1e-5, momentum=0.1):\n",
        "    self.eps = eps\n",
        "    self.gamma = torch.ones(dim)\n",
        "    self.beta = torch.zeros(dim)\n",
        "\n",
        "  def __call__(self, x):\n",
        "    # calculate the forward pass\n",
        "    xmean = x.mean(1, keepdim=True) # batch mean\n",
        "    xvar = x.var(1, keepdim=True) # batch variance\n",
        "    xhat = (x - xmean) / torch.sqrt(xvar + self.eps) # normalize to unit variance\n",
        "    self.out = self.gamma * xhat + self.beta\n",
        "    return self.out\n",
        "\n",
        "  def parameters(self):\n",
        "    return [self.gamma, self.beta]\n",
        "\n",
        "torch.manual_seed(1337)\n",
        "module = LayerNorm1d(100)\n",
        "x = torch.randn(32, 100) # batch size 32 of 100-dimensional vectors\n",
        "x = module(x)\n",
        "x.shape"
      ],
      "metadata": {
        "colab": {
          "base_uri": "https://localhost:8080/"
        },
        "id": "j-_eCn1Xnv7W",
        "outputId": "c6137704-53e4-4184-bba5-fe6282e393e1"
      },
      "execution_count": 36,
      "outputs": [
        {
          "output_type": "execute_result",
          "data": {
            "text/plain": [
              "torch.Size([32, 100])"
            ]
          },
          "metadata": {},
          "execution_count": 36
        }
      ]
    },
    {
      "cell_type": "code",
      "source": [
        "x[:,0].mean(), x[:,0].std() # mean,std of one feature across all batch inputs"
      ],
      "metadata": {
        "colab": {
          "base_uri": "https://localhost:8080/"
        },
        "id": "W7-vpitanv9u",
        "outputId": "48439967-cdf5-43be-f90c-5df8593bc08d"
      },
      "execution_count": 37,
      "outputs": [
        {
          "output_type": "execute_result",
          "data": {
            "text/plain": [
              "(tensor(0.1469), tensor(0.8803))"
            ]
          },
          "metadata": {},
          "execution_count": 37
        }
      ]
    },
    {
      "cell_type": "code",
      "source": [
        "x[0,:].mean(), x[0,:].std() # mean,std of a single input from the batch, of its features"
      ],
      "metadata": {
        "colab": {
          "base_uri": "https://localhost:8080/"
        },
        "id": "4DVFwBRKoYYp",
        "outputId": "0c52f31f-0b95-469d-dfc8-61f0372ff78e"
      },
      "execution_count": 38,
      "outputs": [
        {
          "output_type": "execute_result",
          "data": {
            "text/plain": [
              "(tensor(-9.5367e-09), tensor(1.0000))"
            ]
          },
          "metadata": {},
          "execution_count": 38
        }
      ]
    },
    {
      "cell_type": "code",
      "source": [
        "# French to English translation example:\n",
        "\n",
        "# <--------- ENCODE ------------------><--------------- DECODE ----------------->\n",
        "# les réseaux de neurones sont géniaux! <START> neural networks are awesome!<END>"
      ],
      "metadata": {
        "id": "_UhvahjAoZ4g"
      },
      "execution_count": 39,
      "outputs": []
    },
    {
      "cell_type": "code",
      "source": [
        "import torch\n",
        "import torch.nn as nn\n",
        "from torch.nn import functional as F\n",
        "\n",
        "# hyperparameters\n",
        "batch_size = 16 # how many independent sequences will we process in parallel?\n",
        "block_size = 32 # what is the maximum context length for predictions?\n",
        "max_iters = 5000\n",
        "eval_interval = 100\n",
        "learning_rate = 1e-3\n",
        "device = 'cuda' if torch.cuda.is_available() else 'cpu'\n",
        "eval_iters = 200\n",
        "n_embd = 64\n",
        "n_head = 4\n",
        "n_layer = 4\n",
        "dropout = 0.0\n",
        "# ------------\n",
        "\n",
        "torch.manual_seed(1337)\n",
        "\n",
        "# wget https://raw.githubusercontent.com/karpathy/char-rnn/master/data/tinyshakespeare/input.txt\n",
        "with open('input.txt', 'r', encoding='utf-8') as f:\n",
        "    text = f.read()\n",
        "\n",
        "# here are all the unique characters that occur in this text\n",
        "chars = sorted(list(set(text)))\n",
        "vocab_size = len(chars)\n",
        "# create a mapping from characters to integers\n",
        "stoi = { ch:i for i,ch in enumerate(chars) }\n",
        "itos = { i:ch for i,ch in enumerate(chars) }\n",
        "encode = lambda s: [stoi[c] for c in s] # encoder: take a string, output a list of integers\n",
        "decode = lambda l: ''.join([itos[i] for i in l]) # decoder: take a list of integers, output a string\n",
        "\n",
        "# Train and test splits\n",
        "data = torch.tensor(encode(text), dtype=torch.long)\n",
        "n = int(0.9*len(data)) # first 90% will be train, rest val\n",
        "train_data = data[:n]\n",
        "val_data = data[n:]\n",
        "\n",
        "# data loading\n",
        "def get_batch(split):\n",
        "    # generate a small batch of data of inputs x and targets y\n",
        "    data = train_data if split == 'train' else val_data\n",
        "    ix = torch.randint(len(data) - block_size, (batch_size,))\n",
        "    x = torch.stack([data[i:i+block_size] for i in ix])\n",
        "    y = torch.stack([data[i+1:i+block_size+1] for i in ix])\n",
        "    x, y = x.to(device), y.to(device)\n",
        "    return x, y\n",
        "\n",
        "@torch.no_grad()\n",
        "def estimate_loss():\n",
        "    out = {}\n",
        "    model.eval()\n",
        "    for split in ['train', 'val']:\n",
        "        losses = torch.zeros(eval_iters)\n",
        "        for k in range(eval_iters):\n",
        "            X, Y = get_batch(split)\n",
        "            logits, loss = model(X, Y)\n",
        "            losses[k] = loss.item()\n",
        "        out[split] = losses.mean()\n",
        "    model.train()\n",
        "    return out\n",
        "\n",
        "class Head(nn.Module):\n",
        "    \"\"\" one head of self-attention \"\"\"\n",
        "\n",
        "    def __init__(self, head_size):\n",
        "        super().__init__()\n",
        "        self.key = nn.Linear(n_embd, head_size, bias=False)\n",
        "        self.query = nn.Linear(n_embd, head_size, bias=False)\n",
        "        self.value = nn.Linear(n_embd, head_size, bias=False)\n",
        "        self.register_buffer('tril', torch.tril(torch.ones(block_size, block_size)))\n",
        "\n",
        "        self.dropout = nn.Dropout(dropout)\n",
        "\n",
        "    def forward(self, x):\n",
        "        B,T,C = x.shape\n",
        "        k = self.key(x)   # (B,T,C)\n",
        "        q = self.query(x) # (B,T,C)\n",
        "        # compute attention scores (\"affinities\")\n",
        "        wei = q @ k.transpose(-2,-1) * C**-0.5 # (B, T, C) @ (B, C, T) -> (B, T, T)\n",
        "        wei = wei.masked_fill(self.tril[:T, :T] == 0, float('-inf')) # (B, T, T)\n",
        "        wei = F.softmax(wei, dim=-1) # (B, T, T)\n",
        "        wei = self.dropout(wei)\n",
        "        # perform the weighted aggregation of the values\n",
        "        v = self.value(x) # (B,T,C)\n",
        "        out = wei @ v # (B, T, T) @ (B, T, C) -> (B, T, C)\n",
        "        return out\n",
        "\n",
        "class MultiHeadAttention(nn.Module):\n",
        "    \"\"\" multiple heads of self-attention in parallel \"\"\"\n",
        "\n",
        "    def __init__(self, num_heads, head_size):\n",
        "        super().__init__()\n",
        "        self.heads = nn.ModuleList([Head(head_size) for _ in range(num_heads)])\n",
        "        self.proj = nn.Linear(n_embd, n_embd)\n",
        "        self.dropout = nn.Dropout(dropout)\n",
        "\n",
        "    def forward(self, x):\n",
        "        out = torch.cat([h(x) for h in self.heads], dim=-1)\n",
        "        out = self.dropout(self.proj(out))\n",
        "        return out\n",
        "\n",
        "class FeedFoward(nn.Module):\n",
        "    \"\"\" a simple linear layer followed by a non-linearity \"\"\"\n",
        "\n",
        "    def __init__(self, n_embd):\n",
        "        super().__init__()\n",
        "        self.net = nn.Sequential(\n",
        "            nn.Linear(n_embd, 4 * n_embd),\n",
        "            nn.ReLU(),\n",
        "            nn.Linear(4 * n_embd, n_embd),\n",
        "            nn.Dropout(dropout),\n",
        "        )\n",
        "\n",
        "    def forward(self, x):\n",
        "        return self.net(x)\n",
        "\n",
        "class Block(nn.Module):\n",
        "    \"\"\" Transformer block: communication followed by computation \"\"\"\n",
        "\n",
        "    def __init__(self, n_embd, n_head):\n",
        "        # n_embd: embedding dimension, n_head: the number of heads we'd like\n",
        "        super().__init__()\n",
        "        head_size = n_embd // n_head\n",
        "        self.sa = MultiHeadAttention(n_head, head_size)\n",
        "        self.ffwd = FeedFoward(n_embd)\n",
        "        self.ln1 = nn.LayerNorm(n_embd)\n",
        "        self.ln2 = nn.LayerNorm(n_embd)\n",
        "\n",
        "    def forward(self, x):\n",
        "        x = x + self.sa(self.ln1(x))\n",
        "        x = x + self.ffwd(self.ln2(x))\n",
        "        return x\n",
        "\n",
        "# super simple bigram model\n",
        "class BigramLanguageModel(nn.Module):\n",
        "\n",
        "    def __init__(self):\n",
        "        super().__init__()\n",
        "        # each token directly reads off the logits for the next token from a lookup table\n",
        "        self.token_embedding_table = nn.Embedding(vocab_size, n_embd)\n",
        "        self.position_embedding_table = nn.Embedding(block_size, n_embd)\n",
        "        self.blocks = nn.Sequential(*[Block(n_embd, n_head=n_head) for _ in range(n_layer)])\n",
        "        self.ln_f = nn.LayerNorm(n_embd) # final layer norm\n",
        "        self.lm_head = nn.Linear(n_embd, vocab_size)\n",
        "\n",
        "    def forward(self, idx, targets=None):\n",
        "        B, T = idx.shape\n",
        "\n",
        "        # idx and targets are both (B,T) tensor of integers\n",
        "        tok_emb = self.token_embedding_table(idx) # (B,T,C)\n",
        "        pos_emb = self.position_embedding_table(torch.arange(T, device=device)) # (T,C)\n",
        "        x = tok_emb + pos_emb # (B,T,C)\n",
        "        x = self.blocks(x) # (B,T,C)\n",
        "        x = self.ln_f(x) # (B,T,C)\n",
        "        logits = self.lm_head(x) # (B,T,vocab_size)\n",
        "\n",
        "        if targets is None:\n",
        "            loss = None\n",
        "        else:\n",
        "            B, T, C = logits.shape\n",
        "            logits = logits.view(B*T, C)\n",
        "            targets = targets.view(B*T)\n",
        "            loss = F.cross_entropy(logits, targets)\n",
        "\n",
        "        return logits, loss\n",
        "\n",
        "    def generate(self, idx, max_new_tokens):\n",
        "        # idx is (B, T) array of indices in the current context\n",
        "        for _ in range(max_new_tokens):\n",
        "            # crop idx to the last block_size tokens\n",
        "            idx_cond = idx[:, -block_size:]\n",
        "            # get the predictions\n",
        "            logits, loss = self(idx_cond)\n",
        "            # focus only on the last time step\n",
        "            logits = logits[:, -1, :] # becomes (B, C)\n",
        "            # apply softmax to get probabilities\n",
        "            probs = F.softmax(logits, dim=-1) # (B, C)\n",
        "            # sample from the distribution\n",
        "            idx_next = torch.multinomial(probs, num_samples=1) # (B, 1)\n",
        "            # append sampled index to the running sequence\n",
        "            idx = torch.cat((idx, idx_next), dim=1) # (B, T+1)\n",
        "        return idx\n",
        "\n",
        "model = BigramLanguageModel()\n",
        "m = model.to(device)\n",
        "# print the number of parameters in the model\n",
        "print(sum(p.numel() for p in m.parameters())/1e6, 'M parameters')\n",
        "\n",
        "# create a PyTorch optimizer\n",
        "optimizer = torch.optim.AdamW(model.parameters(), lr=learning_rate)\n",
        "\n",
        "for iter in range(max_iters):\n",
        "\n",
        "    # every once in a while evaluate the loss on train and val sets\n",
        "    if iter % eval_interval == 0 or iter == max_iters - 1:\n",
        "        losses = estimate_loss()\n",
        "        print(f\"step {iter}: train loss {losses['train']:.4f}, val loss {losses['val']:.4f}\")\n",
        "\n",
        "    # sample a batch of data\n",
        "    xb, yb = get_batch('train')\n",
        "\n",
        "    # evaluate the loss\n",
        "    logits, loss = model(xb, yb)\n",
        "    optimizer.zero_grad(set_to_none=True)\n",
        "    loss.backward()\n",
        "    optimizer.step()\n",
        "\n",
        "# generate from the model\n",
        "context = torch.zeros((1, 1), dtype=torch.long, device=device)\n",
        "print(decode(m.generate(context, max_new_tokens=2000)[0].tolist()))"
      ],
      "metadata": {
        "colab": {
          "base_uri": "https://localhost:8080/"
        },
        "id": "MVKUsEGPoaee",
        "outputId": "03fb75cb-a27c-450a-97d4-e643e1da1b4c"
      },
      "execution_count": 40,
      "outputs": [
        {
          "output_type": "stream",
          "name": "stdout",
          "text": [
            "0.209729 M parameters\n",
            "step 0: train loss 4.4116, val loss 4.4022\n",
            "step 100: train loss 2.6568, val loss 2.6670\n",
            "step 200: train loss 2.5090, val loss 2.5059\n",
            "step 300: train loss 2.4196, val loss 2.4338\n",
            "step 400: train loss 2.3503, val loss 2.3565\n",
            "step 500: train loss 2.2966, val loss 2.3129\n",
            "step 600: train loss 2.2410, val loss 2.2500\n",
            "step 700: train loss 2.2051, val loss 2.2191\n",
            "step 800: train loss 2.1640, val loss 2.1874\n",
            "step 900: train loss 2.1251, val loss 2.1515\n",
            "step 1000: train loss 2.1023, val loss 2.1291\n",
            "step 1100: train loss 2.0699, val loss 2.1192\n",
            "step 1200: train loss 2.0375, val loss 2.0797\n",
            "step 1300: train loss 2.0259, val loss 2.0647\n",
            "step 1400: train loss 1.9924, val loss 2.0362\n",
            "step 1500: train loss 1.9700, val loss 2.0304\n",
            "step 1600: train loss 1.9631, val loss 2.0476\n",
            "step 1700: train loss 1.9412, val loss 2.0131\n",
            "step 1800: train loss 1.9097, val loss 1.9960\n",
            "step 1900: train loss 1.9101, val loss 1.9882\n",
            "step 2000: train loss 1.8867, val loss 1.9976\n",
            "step 2100: train loss 1.8720, val loss 1.9754\n",
            "step 2200: train loss 1.8588, val loss 1.9606\n",
            "step 2300: train loss 1.8542, val loss 1.9525\n",
            "step 2400: train loss 1.8424, val loss 1.9464\n",
            "step 2500: train loss 1.8173, val loss 1.9455\n",
            "step 2600: train loss 1.8256, val loss 1.9388\n",
            "step 2700: train loss 1.8116, val loss 1.9350\n",
            "step 2800: train loss 1.8056, val loss 1.9214\n",
            "step 2900: train loss 1.8040, val loss 1.9300\n",
            "step 3000: train loss 1.7974, val loss 1.9205\n",
            "step 3100: train loss 1.7694, val loss 1.9157\n",
            "step 3200: train loss 1.7539, val loss 1.9115\n",
            "step 3300: train loss 1.7571, val loss 1.9071\n",
            "step 3400: train loss 1.7531, val loss 1.8954\n",
            "step 3500: train loss 1.7368, val loss 1.8918\n",
            "step 3600: train loss 1.7274, val loss 1.8884\n",
            "step 3700: train loss 1.7301, val loss 1.8819\n",
            "step 3800: train loss 1.7210, val loss 1.8938\n",
            "step 3900: train loss 1.7260, val loss 1.8750\n",
            "step 4000: train loss 1.7122, val loss 1.8554\n",
            "step 4100: train loss 1.7129, val loss 1.8717\n",
            "step 4200: train loss 1.7041, val loss 1.8634\n",
            "step 4300: train loss 1.6986, val loss 1.8434\n",
            "step 4400: train loss 1.7052, val loss 1.8605\n",
            "step 4500: train loss 1.6881, val loss 1.8467\n",
            "step 4600: train loss 1.6849, val loss 1.8318\n",
            "step 4700: train loss 1.6833, val loss 1.8449\n",
            "step 4800: train loss 1.6686, val loss 1.8472\n",
            "step 4900: train loss 1.6719, val loss 1.8425\n",
            "step 4999: train loss 1.6619, val loss 1.8215\n",
            "\n",
            "And they bride will to lay be madie;\n",
            "Thou but take O-dam the change:\n",
            "Warth full him tother dilth ane away, my fears,\n",
            "You have was them of is heart mile,\n",
            "You, and if ensmy contlatist, drov the does me now that\n",
            "just, lesing that.\n",
            "His my now, you up; and the tyby love.\n",
            "In Bodiet, and whom\n",
            "that demperakenous, so what evily well my\n",
            "Murtus censurence of him the reshep and thrust for to imper my monte in Mont,\n",
            "To fight? gry of thy hourb! stiddy as\n",
            "ards bearing her broint must are no Runnts\n",
            "Infortuce will me not be arm.\n",
            "You contrantymes have myse.-\n",
            "And fortwerle madam them may in son, live body.\n",
            "\n",
            "Think you:\n",
            "It stay might. \n",
            "CLAMENCE:\n",
            "My whilesse everew in movet, if Cassce of's counted;\n",
            "How what make you fear tals: the gold my sun?\n",
            "What, loudy forgor man our him.\n",
            "I will were but with some. Povinly Ford the welcont.\n",
            "\n",
            "QUEEN FIDILIZ:\n",
            "No?\n",
            "Their him the not.\n",
            "\n",
            "POLIXENENE:\n",
            "But to me, God no now the summe wip.\n",
            "\n",
            "GROMPEO:\n",
            "Conguit, bruke this belike, on so han the bodiet.\n",
            "\n",
            "CORIOLANUS:\n",
            "Till the;\n",
            "you wellseers I am with you,\n",
            "For I hust no where Mustconce, do wind that I am nobly.\n",
            "\n",
            "BRUSTHORD:\n",
            "O, wenterings so me worting.\n",
            "\n",
            "GRUMIO:\n",
            "O thus favour now,\n",
            "An bear was all beenIn\n",
            "Before and to the sever--and.\n",
            "In to dot me, to liberfeleing breamn'd my have\n",
            "epince, if that jutcey's leve,\n",
            "That Tumselfly there's little ofjess the vown;\n",
            "Maughter armied maste love in stide belothy dong'd the not.\n",
            "\n",
            "BENVOLIO:\n",
            "Well cavonzy to I have must aboe;\n",
            "I now, I thinke numt om Three teny, delelige,\n",
            "And yet our son one old, we\n",
            "ell sment on you; and plock, say, as If have to kavidess corby?\n",
            "Then eteep; upose worth\n",
            "But arm one wall preven him there.\n",
            "\n",
            "BUCKINGHARD\n",
            "\n",
            "IVIRHAMIUS:\n",
            "Why, unere to-marrow thy sathe court his in on\n",
            "some no, God the have blay not, these wife it:\n",
            "The that hear I, thou with art, lives?\n",
            "\n",
            "LARY:\n",
            "Our while with you\n",
            "That I horrtw'd will theirs is.\n",
            "Why, I would I drue, and was father,--\n",
            "'Tensis, thy promb, many and sentry talbatt.\n",
            "\n",
            "PORDINCE:\n",
            "Why Riparding:\n",
            "In is shown's fortunds, but whom the brike our all\n"
          ]
        }
      ]
    },
    {
      "cell_type": "code",
      "source": [],
      "metadata": {
        "id": "V5yQlR9moagn"
      },
      "execution_count": null,
      "outputs": []
    },
    {
      "cell_type": "code",
      "source": [],
      "metadata": {
        "id": "S4AFpDReoail"
      },
      "execution_count": null,
      "outputs": []
    },
    {
      "cell_type": "code",
      "source": [],
      "metadata": {
        "id": "An_7-xxKoaoC"
      },
      "execution_count": null,
      "outputs": []
    },
    {
      "cell_type": "code",
      "source": [],
      "metadata": {
        "id": "rVudIlrSoaqL"
      },
      "execution_count": null,
      "outputs": []
    },
    {
      "cell_type": "code",
      "source": [],
      "metadata": {
        "id": "FTBkGAsQoasN"
      },
      "execution_count": null,
      "outputs": []
    },
    {
      "cell_type": "code",
      "source": [],
      "metadata": {
        "id": "wIoTCgxJoauP"
      },
      "execution_count": null,
      "outputs": []
    },
    {
      "cell_type": "code",
      "source": [],
      "metadata": {
        "id": "9SLXdtPtoawl"
      },
      "execution_count": null,
      "outputs": []
    },
    {
      "cell_type": "code",
      "source": [],
      "metadata": {
        "id": "CzEXiN6aoa0e"
      },
      "execution_count": null,
      "outputs": []
    }
  ]
}